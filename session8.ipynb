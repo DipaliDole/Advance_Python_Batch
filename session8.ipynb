{
 "cells": [
  {
   "cell_type": "markdown",
   "id": "af24670b-2671-4347-b059-980fe9378ace",
   "metadata": {},
   "source": [
    "# Tuple"
   ]
  },
  {
   "cell_type": "code",
   "execution_count": 1,
   "id": "931142fd-987d-44c0-a3fa-157145057eb1",
   "metadata": {},
   "outputs": [],
   "source": [
    "Anshul=('The son of dipali dole', 'The son of yogesh dole')\n",
    "# comma is necessary to convert a string into a tuple "
   ]
  },
  {
   "cell_type": "code",
   "execution_count": 2,
   "id": "fb91b88f-e4dc-4cfe-8c75-d3bde43edec1",
   "metadata": {},
   "outputs": [
    {
     "data": {
      "text/plain": [
       "tuple"
      ]
     },
     "execution_count": 2,
     "metadata": {},
     "output_type": "execute_result"
    }
   ],
   "source": [
    "type(Anshul)"
   ]
  },
  {
   "cell_type": "code",
   "execution_count": 3,
   "id": "c953a3f2-e6db-4491-8d1d-4eb5e719e818",
   "metadata": {},
   "outputs": [
    {
     "name": "stdout",
     "output_type": "stream",
     "text": [
      "('The son of dipali dole', 'The son of yogesh dole')\n"
     ]
    }
   ],
   "source": [
    "print(Anshul)"
   ]
  },
  {
   "cell_type": "code",
   "execution_count": 4,
   "id": "e49d10fd-855a-40ef-a3c5-24db82bdaff1",
   "metadata": {},
   "outputs": [],
   "source": [
    "T1=(1,2,3,4,'asdf','j;klk',7,8,9)"
   ]
  },
  {
   "cell_type": "code",
   "execution_count": 5,
   "id": "1a0792ce-8fab-4fae-940d-a1152037d72b",
   "metadata": {},
   "outputs": [
    {
     "data": {
      "text/plain": [
       "(1, 2, 3, 4, 'asdf', 'j;klk', 7, 8, 9)"
      ]
     },
     "execution_count": 5,
     "metadata": {},
     "output_type": "execute_result"
    }
   ],
   "source": [
    "T1"
   ]
  },
  {
   "cell_type": "code",
   "execution_count": 6,
   "id": "6782fe3a-9ce4-4a06-affb-ae58faed417e",
   "metadata": {},
   "outputs": [
    {
     "data": {
      "text/plain": [
       "tuple"
      ]
     },
     "execution_count": 6,
     "metadata": {},
     "output_type": "execute_result"
    }
   ],
   "source": [
    "type(T1)"
   ]
  },
  {
   "cell_type": "code",
   "execution_count": 7,
   "id": "71237dcb-988a-49b5-92a7-cf291c5d3164",
   "metadata": {},
   "outputs": [],
   "source": [
    "t2=(3,4,6)"
   ]
  },
  {
   "cell_type": "code",
   "execution_count": 8,
   "id": "e70bdee4-696d-4373-8760-bd395f0da7ee",
   "metadata": {},
   "outputs": [
    {
     "data": {
      "text/plain": [
       "tuple"
      ]
     },
     "execution_count": 8,
     "metadata": {},
     "output_type": "execute_result"
    }
   ],
   "source": [
    "type(t2)"
   ]
  },
  {
   "cell_type": "code",
   "execution_count": 9,
   "id": "5b7d22df-f36b-4051-b063-e32a1d8378eb",
   "metadata": {},
   "outputs": [],
   "source": [
    "t3=34,"
   ]
  },
  {
   "cell_type": "code",
   "execution_count": 10,
   "id": "83cc7485-01b5-432a-ad97-27217f8e0e30",
   "metadata": {},
   "outputs": [
    {
     "data": {
      "text/plain": [
       "tuple"
      ]
     },
     "execution_count": 10,
     "metadata": {},
     "output_type": "execute_result"
    }
   ],
   "source": [
    "type(t3)"
   ]
  },
  {
   "cell_type": "code",
   "execution_count": 11,
   "id": "b417abe6-0603-4493-bc9e-d1c87a7ec569",
   "metadata": {},
   "outputs": [],
   "source": [
    "fruits='apple','mango','cherry','Banana'"
   ]
  },
  {
   "cell_type": "code",
   "execution_count": 12,
   "id": "d5fe93d8-989d-4a01-bdbc-cd7c08c60c63",
   "metadata": {},
   "outputs": [],
   "source": [
    "# concatination\n",
    "t4=T1+fruits"
   ]
  },
  {
   "cell_type": "code",
   "execution_count": 13,
   "id": "6433ee05-92f1-41b0-bec9-3524fc38fc5b",
   "metadata": {},
   "outputs": [
    {
     "data": {
      "text/plain": [
       "(1, 2, 3, 4, 'asdf', 'j;klk', 7, 8, 9, 'apple', 'mango', 'cherry', 'Banana')"
      ]
     },
     "execution_count": 13,
     "metadata": {},
     "output_type": "execute_result"
    }
   ],
   "source": [
    "t4"
   ]
  },
  {
   "cell_type": "code",
   "execution_count": 14,
   "id": "c84586d2-eb9d-4a53-b7f4-dc3ba7e14c4b",
   "metadata": {},
   "outputs": [],
   "source": [
    "# tuple unpacking"
   ]
  },
  {
   "cell_type": "code",
   "execution_count": 15,
   "id": "4f3bbaaf-3f4c-4e4b-a90a-c6c7cf34391b",
   "metadata": {},
   "outputs": [],
   "source": [
    "f1,f2,f3,f4=fruits"
   ]
  },
  {
   "cell_type": "code",
   "execution_count": 16,
   "id": "7dd348f4-8deb-4a06-adaf-dac8f7c59f14",
   "metadata": {},
   "outputs": [
    {
     "data": {
      "text/plain": [
       "'apple'"
      ]
     },
     "execution_count": 16,
     "metadata": {},
     "output_type": "execute_result"
    }
   ],
   "source": [
    "f1"
   ]
  },
  {
   "cell_type": "code",
   "execution_count": 17,
   "id": "d5cf26f0-cc41-4f36-8c0c-184045ff8fff",
   "metadata": {},
   "outputs": [
    {
     "data": {
      "text/plain": [
       "'mango'"
      ]
     },
     "execution_count": 17,
     "metadata": {},
     "output_type": "execute_result"
    }
   ],
   "source": [
    "f2"
   ]
  },
  {
   "cell_type": "code",
   "execution_count": 18,
   "id": "2466ce72-e0c2-4359-833f-ed8b2eae523b",
   "metadata": {},
   "outputs": [
    {
     "data": {
      "text/plain": [
       "'cherry'"
      ]
     },
     "execution_count": 18,
     "metadata": {},
     "output_type": "execute_result"
    }
   ],
   "source": [
    "f3"
   ]
  },
  {
   "cell_type": "code",
   "execution_count": 19,
   "id": "0d1d4b3c-dd75-48e1-84b0-62f286431a1e",
   "metadata": {},
   "outputs": [
    {
     "data": {
      "text/plain": [
       "'Banana'"
      ]
     },
     "execution_count": 19,
     "metadata": {},
     "output_type": "execute_result"
    }
   ],
   "source": [
    "f4"
   ]
  },
  {
   "cell_type": "code",
   "execution_count": 20,
   "id": "0a13d595-42f4-4697-8e41-8c38ca1a1d83",
   "metadata": {},
   "outputs": [],
   "source": [
    "# Tuple indexing"
   ]
  },
  {
   "cell_type": "code",
   "execution_count": 22,
   "id": "3ac16cbf-5f0a-4785-8e2e-f409b3ac5cfe",
   "metadata": {},
   "outputs": [
    {
     "data": {
      "text/plain": [
       "2"
      ]
     },
     "execution_count": 22,
     "metadata": {},
     "output_type": "execute_result"
    }
   ],
   "source": [
    "t4[1]"
   ]
  },
  {
   "cell_type": "code",
   "execution_count": 23,
   "id": "5c7874eb-badd-483e-870b-7a75821b00e2",
   "metadata": {},
   "outputs": [
    {
     "data": {
      "text/plain": [
       "'j;klk'"
      ]
     },
     "execution_count": 23,
     "metadata": {},
     "output_type": "execute_result"
    }
   ],
   "source": [
    "t4[5]"
   ]
  },
  {
   "cell_type": "code",
   "execution_count": 24,
   "id": "5c5fdf83-81cb-4512-9713-358f94a48998",
   "metadata": {},
   "outputs": [],
   "source": [
    "# Tuple slicing"
   ]
  },
  {
   "cell_type": "code",
   "execution_count": 25,
   "id": "8fa2daa6-e435-4fb4-87ee-10c8f86fc0ea",
   "metadata": {},
   "outputs": [
    {
     "data": {
      "text/plain": [
       "(1, 3, 'asdf')"
      ]
     },
     "execution_count": 25,
     "metadata": {},
     "output_type": "execute_result"
    }
   ],
   "source": [
    "t4[:5:2]"
   ]
  },
  {
   "cell_type": "code",
   "execution_count": 26,
   "id": "ce89d712-5f49-4790-80e8-8f0555ca2d2a",
   "metadata": {},
   "outputs": [
    {
     "data": {
      "text/plain": [
       "(2, 4, 'j;klk')"
      ]
     },
     "execution_count": 26,
     "metadata": {},
     "output_type": "execute_result"
    }
   ],
   "source": [
    "t4[1:6:2]"
   ]
  },
  {
   "cell_type": "code",
   "execution_count": 27,
   "id": "29b148d8-252b-499d-9d04-40dd186b1537",
   "metadata": {},
   "outputs": [
    {
     "data": {
      "text/plain": [
       "(1, 2, 3, 4, 'asdf', 'j;klk', 7, 8, 9, 'apple', 'mango', 'cherry', 'Banana')"
      ]
     },
     "execution_count": 27,
     "metadata": {},
     "output_type": "execute_result"
    }
   ],
   "source": [
    "t4"
   ]
  },
  {
   "cell_type": "code",
   "execution_count": 28,
   "id": "630f9bb0-addb-437f-9151-5701ba0ef2d1",
   "metadata": {},
   "outputs": [],
   "source": [
    "# Tuple Unpacking"
   ]
  },
  {
   "cell_type": "code",
   "execution_count": 33,
   "id": "2b09601a-2803-480e-aea8-d0106b42780a",
   "metadata": {},
   "outputs": [],
   "source": [
    "car=('bmw','volvo','audi','swift','dipali')"
   ]
  },
  {
   "cell_type": "code",
   "execution_count": 34,
   "id": "d29adfaa-802c-42be-b6a1-76836d5cc846",
   "metadata": {},
   "outputs": [
    {
     "data": {
      "text/plain": [
       "('bmw', 'volvo', 'audi', 'swift', 'dipali')"
      ]
     },
     "execution_count": 34,
     "metadata": {},
     "output_type": "execute_result"
    }
   ],
   "source": [
    "car"
   ]
  },
  {
   "cell_type": "code",
   "execution_count": 35,
   "id": "ef94cd90-0a61-4ee4-a3dc-dc9e4428dd37",
   "metadata": {},
   "outputs": [],
   "source": [
    "car1,car2,car3,car4,car5=car"
   ]
  },
  {
   "cell_type": "code",
   "execution_count": 36,
   "id": "432924c5-bf79-4abc-9b12-caadbcc36a6b",
   "metadata": {},
   "outputs": [
    {
     "data": {
      "text/plain": [
       "'bmw'"
      ]
     },
     "execution_count": 36,
     "metadata": {},
     "output_type": "execute_result"
    }
   ],
   "source": [
    "car1"
   ]
  },
  {
   "cell_type": "code",
   "execution_count": 37,
   "id": "bef2780e-1a32-4986-8d17-65182f4c610e",
   "metadata": {},
   "outputs": [
    {
     "data": {
      "text/plain": [
       "'dipali'"
      ]
     },
     "execution_count": 37,
     "metadata": {},
     "output_type": "execute_result"
    }
   ],
   "source": [
    "car5"
   ]
  },
  {
   "cell_type": "code",
   "execution_count": 38,
   "id": "0724e79a-4261-43c2-a141-718199916924",
   "metadata": {},
   "outputs": [
    {
     "name": "stdout",
     "output_type": "stream",
     "text": [
      "bmw car\n",
      "volvo car\n",
      "audi car\n",
      "swift car\n",
      "dipali car\n"
     ]
    }
   ],
   "source": [
    "for i in car:\n",
    "    print(i+\" \"+'car')"
   ]
  },
  {
   "cell_type": "code",
   "execution_count": null,
   "id": "88116972-9a2d-4ff1-a950-d6f03ff40eeb",
   "metadata": {},
   "outputs": [],
   "source": []
  }
 ],
 "metadata": {
  "kernelspec": {
   "display_name": "Python [conda env:base] *",
   "language": "python",
   "name": "conda-base-py"
  },
  "language_info": {
   "codemirror_mode": {
    "name": "ipython",
    "version": 3
   },
   "file_extension": ".py",
   "mimetype": "text/x-python",
   "name": "python",
   "nbconvert_exporter": "python",
   "pygments_lexer": "ipython3",
   "version": "3.13.5"
  }
 },
 "nbformat": 4,
 "nbformat_minor": 5
}
